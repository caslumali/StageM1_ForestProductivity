{
 "cells": [
  {
   "cell_type": "markdown",
   "metadata": {},
   "source": [
    "### **Setting GEE environnement**\n",
    "Due to compatibility issues it is recommended to use a dedicated environment for the geemap library.\n",
    "\n",
    "See instructions on how to do this here: https://geemap.org/installation/"
   ]
  },
  {
   "cell_type": "code",
   "execution_count": 3,
   "metadata": {},
   "outputs": [
    {
     "data": {
      "text/html": [
       "\n",
       "            <style>\n",
       "                .geemap-dark {\n",
       "                    --jp-widgets-color: white;\n",
       "                    --jp-widgets-label-color: white;\n",
       "                    --jp-ui-font-color1: white;\n",
       "                    --jp-layout-color2: #454545;\n",
       "                    background-color: #383838;\n",
       "                }\n",
       "\n",
       "                .geemap-dark .jupyter-button {\n",
       "                    --jp-layout-color3: #383838;\n",
       "                }\n",
       "\n",
       "                .geemap-colab {\n",
       "                    background-color: var(--colab-primary-surface-color, white);\n",
       "                }\n",
       "\n",
       "                .geemap-colab .jupyter-button {\n",
       "                    --jp-layout-color3: var(--colab-primary-surface-color, white);\n",
       "                }\n",
       "            </style>\n",
       "            "
      ],
      "text/plain": [
       "<IPython.core.display.HTML object>"
      ]
     },
     "metadata": {},
     "output_type": "display_data"
    }
   ],
   "source": [
    "# Install the libraries if they are not installed (you can remove these lines if you have already installed them)\n",
    "# !pip install earthengine-api geemap\n",
    "\n",
    "# Charging the libraries\n",
    "import ee\n",
    "import geemap\n",
    "\n",
    "# Authenticate and initialize Earth Engine session\n",
    "# ee.Authenticate()  # Only required the first time or when the access token expires\n",
    "ee.Initialize()"
   ]
  },
  {
   "cell_type": "markdown",
   "metadata": {},
   "source": [
    "### **Visualisation mode for one roi in one year_of_interest**"
   ]
  },
  {
   "cell_type": "code",
   "execution_count": 5,
   "metadata": {},
   "outputs": [
    {
     "data": {
      "text/html": [
       "\n",
       "            <style>\n",
       "                .geemap-dark {\n",
       "                    --jp-widgets-color: white;\n",
       "                    --jp-widgets-label-color: white;\n",
       "                    --jp-ui-font-color1: white;\n",
       "                    --jp-layout-color2: #454545;\n",
       "                    background-color: #383838;\n",
       "                }\n",
       "\n",
       "                .geemap-dark .jupyter-button {\n",
       "                    --jp-layout-color3: #383838;\n",
       "                }\n",
       "\n",
       "                .geemap-colab {\n",
       "                    background-color: var(--colab-primary-surface-color, white);\n",
       "                }\n",
       "\n",
       "                .geemap-colab .jupyter-button {\n",
       "                    --jp-layout-color3: var(--colab-primary-surface-color, white);\n",
       "                }\n",
       "            </style>\n",
       "            "
      ],
      "text/plain": [
       "<IPython.core.display.HTML object>"
      ]
     },
     "metadata": {},
     "output_type": "display_data"
    }
   ],
   "source": [
    "# Define the ROI and load the dataset\n",
    "roi = ee.FeatureCollection('users/caslumali/UE801_Stage/MDD') # change the name of the ROIi : 'Cotriguacu' / 'Guaviare' / 'MDD' / 'Paragominas'\n",
    "modisEVI = ee.ImageCollection('MODIS/061/MOD13Q1').select('EVI') # can be changed to 'EVI'"
   ]
  },
  {
   "cell_type": "code",
   "execution_count": 6,
   "metadata": {},
   "outputs": [
    {
     "data": {
      "text/html": [
       "\n",
       "            <style>\n",
       "                .geemap-dark {\n",
       "                    --jp-widgets-color: white;\n",
       "                    --jp-widgets-label-color: white;\n",
       "                    --jp-ui-font-color1: white;\n",
       "                    --jp-layout-color2: #454545;\n",
       "                    background-color: #383838;\n",
       "                }\n",
       "\n",
       "                .geemap-dark .jupyter-button {\n",
       "                    --jp-layout-color3: #383838;\n",
       "                }\n",
       "\n",
       "                .geemap-colab {\n",
       "                    background-color: var(--colab-primary-surface-color, white);\n",
       "                }\n",
       "\n",
       "                .geemap-colab .jupyter-button {\n",
       "                    --jp-layout-color3: var(--colab-primary-surface-color, white);\n",
       "                }\n",
       "            </style>\n",
       "            "
      ],
      "text/plain": [
       "<IPython.core.display.HTML object>"
      ]
     },
     "metadata": {},
     "output_type": "display_data"
    },
    {
     "name": "stdout",
     "output_type": "stream",
     "text": [
      "EVI values for 2000 - 2001:\n",
      " {'EVI_max': 150321, 'EVI_mean': 108908.08270316508, 'EVI_min': -3132}\n"
     ]
    }
   ],
   "source": [
    "def calculate_annual_evi_sum(year, roi):\n",
    "    start_date = ee.Date.fromYMD(year, 8, 1)  # Start of the climate year\n",
    "    end_date = ee.Date.fromYMD(year + 1, 7, 31)  # End of the climate year\n",
    "    filtered_year = modisEVI.filterDate(start_date, end_date).map(lambda image: image.clip(roi))\n",
    "    annual_evi_sum = filtered_year.reduce(ee.Reducer.sum()).rename('EVI')\n",
    "    return annual_evi_sum\n",
    "\n",
    "def calculate_stats(image, roi):\n",
    "    stats = image.reduceRegion(\n",
    "        reducer=ee.Reducer.minMax().combine(reducer2=ee.Reducer.mean(), sharedInputs=True),\n",
    "        geometry=roi.geometry(),\n",
    "        scale=250, \n",
    "        maxPixels=1e9\n",
    "    )\n",
    "    return stats.getInfo()\n",
    "\n",
    "# Year of interest for the EVI analysis\n",
    "year_of_interest = 2000\n",
    "\n",
    "# Calculate the annual cumulative EVI\n",
    "annual_evi_sum = calculate_annual_evi_sum(year_of_interest, roi)\n",
    "\n",
    "# Calculate and print EVI statistics\n",
    "stats = calculate_stats(annual_evi_sum, roi)\n",
    "print(f\"EVI values for {year_of_interest} - {year_of_interest + 1}:\\n\", stats)"
   ]
  },
  {
   "cell_type": "code",
   "execution_count": 7,
   "metadata": {},
   "outputs": [
    {
     "data": {
      "text/html": [
       "\n",
       "            <style>\n",
       "                .geemap-dark {\n",
       "                    --jp-widgets-color: white;\n",
       "                    --jp-widgets-label-color: white;\n",
       "                    --jp-ui-font-color1: white;\n",
       "                    --jp-layout-color2: #454545;\n",
       "                    background-color: #383838;\n",
       "                }\n",
       "\n",
       "                .geemap-dark .jupyter-button {\n",
       "                    --jp-layout-color3: #383838;\n",
       "                }\n",
       "\n",
       "                .geemap-colab {\n",
       "                    background-color: var(--colab-primary-surface-color, white);\n",
       "                }\n",
       "\n",
       "                .geemap-colab .jupyter-button {\n",
       "                    --jp-layout-color3: var(--colab-primary-surface-color, white);\n",
       "                }\n",
       "            </style>\n",
       "            "
      ],
      "text/plain": [
       "<IPython.core.display.HTML object>"
      ]
     },
     "metadata": {},
     "output_type": "display_data"
    },
    {
     "data": {
      "application/vnd.jupyter.widget-view+json": {
       "model_id": "a36cef96aa7d429990dbd84f264c49b4",
       "version_major": 2,
       "version_minor": 0
      },
      "text/plain": [
       "Map(center=[-11.980585283981338, -70.53595429489678], controls=(WidgetControl(options=['position', 'transparen…"
      ]
     },
     "execution_count": 7,
     "metadata": {},
     "output_type": "execute_result"
    }
   ],
   "source": [
    "# Calculate EVI statistics for the year of interest to generate dynamic visualization\n",
    "stats = calculate_stats(annual_evi_sum, roi)\n",
    "\n",
    "# Set display options using calculated minimum and maximum values\n",
    "eviVis = {\n",
    "    'min': stats['EVI_min'],\n",
    "    'max': stats['EVI_max'],\n",
    "    'palette': [\n",
    "        'ffffff', 'ce7e45', 'df923d', 'f1b555', 'fcd163', '99b718',\n",
    "        '74a901', '66a000', '529400', '3e8601', '207401', '056201',\n",
    "        '004c00', '023b01', '012e01', '011d01', '011301'\n",
    "    ]\n",
    "}\n",
    "\n",
    "# View the EVI image on the map\n",
    "Map = geemap.Map()\n",
    "Map.addLayer(annual_evi_sum, eviVis, 'Annual EVI sum')\n",
    "Map.centerObject(roi, 7) # Change the zoom depending on the area\n",
    "Map"
   ]
  },
  {
   "cell_type": "markdown",
   "metadata": {},
   "source": [
    "### **Looping for export EVI for each ROI**"
   ]
  },
  {
   "cell_type": "code",
   "execution_count": 9,
   "metadata": {},
   "outputs": [
    {
     "data": {
      "text/html": [
       "\n",
       "            <style>\n",
       "                .geemap-dark {\n",
       "                    --jp-widgets-color: white;\n",
       "                    --jp-widgets-label-color: white;\n",
       "                    --jp-ui-font-color1: white;\n",
       "                    --jp-layout-color2: #454545;\n",
       "                    background-color: #383838;\n",
       "                }\n",
       "\n",
       "                .geemap-dark .jupyter-button {\n",
       "                    --jp-layout-color3: #383838;\n",
       "                }\n",
       "\n",
       "                .geemap-colab {\n",
       "                    background-color: var(--colab-primary-surface-color, white);\n",
       "                }\n",
       "\n",
       "                .geemap-colab .jupyter-button {\n",
       "                    --jp-layout-color3: var(--colab-primary-surface-color, white);\n",
       "                }\n",
       "            </style>\n",
       "            "
      ],
      "text/plain": [
       "<IPython.core.display.HTML object>"
      ]
     },
     "metadata": {},
     "output_type": "display_data"
    }
   ],
   "source": [
    "# Define ROIs in a list\n",
    "# Export ROIs have a 10km buffer\n",
    "rois = {\n",
    "    'Cotriguacu': ee.FeatureCollection('users/caslumali/UE801_Stage/Cotriguacu_10km'),\n",
    "    'Guaviare': ee.FeatureCollection('users/caslumali/UE801_Stage/Guaviare_10km'),\n",
    "    'MDD': ee.FeatureCollection('users/caslumali/UE801_Stage/MDD_10km'),\n",
    "    'Paragominas': ee.FeatureCollection('users/caslumali/UE801_Stage/Paragominas_10km'),\n",
    "}"
   ]
  },
  {
   "cell_type": "code",
   "execution_count": 10,
   "metadata": {},
   "outputs": [
    {
     "data": {
      "text/html": [
       "\n",
       "            <style>\n",
       "                .geemap-dark {\n",
       "                    --jp-widgets-color: white;\n",
       "                    --jp-widgets-label-color: white;\n",
       "                    --jp-ui-font-color1: white;\n",
       "                    --jp-layout-color2: #454545;\n",
       "                    background-color: #383838;\n",
       "                }\n",
       "\n",
       "                .geemap-dark .jupyter-button {\n",
       "                    --jp-layout-color3: #383838;\n",
       "                }\n",
       "\n",
       "                .geemap-colab {\n",
       "                    background-color: var(--colab-primary-surface-color, white);\n",
       "                }\n",
       "\n",
       "                .geemap-colab .jupyter-button {\n",
       "                    --jp-layout-color3: var(--colab-primary-surface-color, white);\n",
       "                }\n",
       "            </style>\n",
       "            "
      ],
      "text/plain": [
       "<IPython.core.display.HTML object>"
      ]
     },
     "metadata": {},
     "output_type": "display_data"
    },
    {
     "name": "stdout",
     "output_type": "stream",
     "text": [
      "Processing Cotriguacu...\n",
      "Export task started for Cotriguacu in the year: 2000\n",
      "Export task started for Cotriguacu in the year: 2001\n",
      "Export task started for Cotriguacu in the year: 2002\n",
      "Export task started for Cotriguacu in the year: 2003\n",
      "Export task started for Cotriguacu in the year: 2004\n",
      "Export task started for Cotriguacu in the year: 2005\n",
      "Export task started for Cotriguacu in the year: 2006\n",
      "Export task started for Cotriguacu in the year: 2007\n",
      "Export task started for Cotriguacu in the year: 2008\n",
      "Export task started for Cotriguacu in the year: 2009\n",
      "Export task started for Cotriguacu in the year: 2010\n",
      "Export task started for Cotriguacu in the year: 2011\n",
      "Export task started for Cotriguacu in the year: 2012\n",
      "Export task started for Cotriguacu in the year: 2013\n",
      "Export task started for Cotriguacu in the year: 2014\n",
      "Export task started for Cotriguacu in the year: 2015\n",
      "Export task started for Cotriguacu in the year: 2016\n",
      "Export task started for Cotriguacu in the year: 2017\n",
      "Export task started for Cotriguacu in the year: 2018\n",
      "Export task started for Cotriguacu in the year: 2019\n",
      "Export task started for Cotriguacu in the year: 2020\n",
      "Export task started for Cotriguacu in the year: 2021\n",
      "Export task started for Cotriguacu in the year: 2022\n",
      "Processing Guaviare...\n",
      "Export task started for Guaviare in the year: 2000\n",
      "Export task started for Guaviare in the year: 2001\n",
      "Export task started for Guaviare in the year: 2002\n",
      "Export task started for Guaviare in the year: 2003\n",
      "Export task started for Guaviare in the year: 2004\n",
      "Export task started for Guaviare in the year: 2005\n",
      "Export task started for Guaviare in the year: 2006\n",
      "Export task started for Guaviare in the year: 2007\n",
      "Export task started for Guaviare in the year: 2008\n",
      "Export task started for Guaviare in the year: 2009\n",
      "Export task started for Guaviare in the year: 2010\n",
      "Export task started for Guaviare in the year: 2011\n",
      "Export task started for Guaviare in the year: 2012\n",
      "Export task started for Guaviare in the year: 2013\n",
      "Export task started for Guaviare in the year: 2014\n",
      "Export task started for Guaviare in the year: 2015\n",
      "Export task started for Guaviare in the year: 2016\n",
      "Export task started for Guaviare in the year: 2017\n",
      "Export task started for Guaviare in the year: 2018\n",
      "Export task started for Guaviare in the year: 2019\n",
      "Export task started for Guaviare in the year: 2020\n",
      "Export task started for Guaviare in the year: 2021\n",
      "Export task started for Guaviare in the year: 2022\n",
      "Processing MDD...\n",
      "Export task started for MDD in the year: 2000\n",
      "Export task started for MDD in the year: 2001\n",
      "Export task started for MDD in the year: 2002\n",
      "Export task started for MDD in the year: 2003\n",
      "Export task started for MDD in the year: 2004\n",
      "Export task started for MDD in the year: 2005\n",
      "Export task started for MDD in the year: 2006\n",
      "Export task started for MDD in the year: 2007\n",
      "Export task started for MDD in the year: 2008\n",
      "Export task started for MDD in the year: 2009\n",
      "Export task started for MDD in the year: 2010\n",
      "Export task started for MDD in the year: 2011\n",
      "Export task started for MDD in the year: 2012\n",
      "Export task started for MDD in the year: 2013\n",
      "Export task started for MDD in the year: 2014\n",
      "Export task started for MDD in the year: 2015\n",
      "Export task started for MDD in the year: 2016\n",
      "Export task started for MDD in the year: 2017\n",
      "Export task started for MDD in the year: 2018\n",
      "Export task started for MDD in the year: 2019\n",
      "Export task started for MDD in the year: 2020\n",
      "Export task started for MDD in the year: 2021\n",
      "Export task started for MDD in the year: 2022\n",
      "Processing Paragominas...\n",
      "Export task started for Paragominas in the year: 2000\n",
      "Export task started for Paragominas in the year: 2001\n",
      "Export task started for Paragominas in the year: 2002\n",
      "Export task started for Paragominas in the year: 2003\n",
      "Export task started for Paragominas in the year: 2004\n",
      "Export task started for Paragominas in the year: 2005\n",
      "Export task started for Paragominas in the year: 2006\n",
      "Export task started for Paragominas in the year: 2007\n",
      "Export task started for Paragominas in the year: 2008\n",
      "Export task started for Paragominas in the year: 2009\n",
      "Export task started for Paragominas in the year: 2010\n",
      "Export task started for Paragominas in the year: 2011\n",
      "Export task started for Paragominas in the year: 2012\n",
      "Export task started for Paragominas in the year: 2013\n",
      "Export task started for Paragominas in the year: 2014\n",
      "Export task started for Paragominas in the year: 2015\n",
      "Export task started for Paragominas in the year: 2016\n",
      "Export task started for Paragominas in the year: 2017\n",
      "Export task started for Paragominas in the year: 2018\n",
      "Export task started for Paragominas in the year: 2019\n",
      "Export task started for Paragominas in the year: 2020\n",
      "Export task started for Paragominas in the year: 2021\n",
      "Export task started for Paragominas in the year: 2022\n"
     ]
    }
   ],
   "source": [
    "from datetime import datetime\n",
    "\n",
    "# Get current year\n",
    "current_year = datetime.now().year\n",
    "\n",
    "# Loop for each ROI\n",
    "for roi_name, roi in rois.items():\n",
    "    print(f'Processing {roi_name}...')\n",
    "    for year in range(2000, current_year):  # Goes to the current year\n",
    "        # If we are in the current year and processing the last year, skip the combination\n",
    "        if year == current_year - 1:\n",
    "            continue  # Skip to the next iteration of the loop\n",
    "\n",
    "        annualEVISum = calculate_annual_evi_sum(year, roi).toDouble()\n",
    "        description = f'{roi_name}_EVI_Annual_Sum_{year}_{year + 1}'\n",
    "        fileNamePrefix = f'{roi_name}_EVI_Annual_Sum_{year}_{year + 1}'\n",
    "        \n",
    "        task = ee.batch.Export.image.toDrive(\n",
    "            image=annualEVISum,\n",
    "            description=description,\n",
    "            fileNamePrefix=fileNamePrefix,\n",
    "            folder=f'{roi_name}_EVI_Annual',\n",
    "            scale=250,\n",
    "            region=roi.geometry(),\n",
    "            crs='EPSG:4326',\n",
    "            fileFormat='GeoTIFF',\n",
    "            maxPixels=1e9\n",
    "        )\n",
    "        task.start()\n",
    "        print(f'Export task started for {roi_name} in the year: {year}')\n"
   ]
  }
 ],
 "metadata": {
  "kernelspec": {
   "display_name": "geopy",
   "language": "python",
   "name": "python3"
  },
  "language_info": {
   "codemirror_mode": {
    "name": "ipython",
    "version": 3
   },
   "file_extension": ".py",
   "mimetype": "text/x-python",
   "name": "python",
   "nbconvert_exporter": "python",
   "pygments_lexer": "ipython3",
   "version": "3.11.8"
  }
 },
 "nbformat": 4,
 "nbformat_minor": 2
}
