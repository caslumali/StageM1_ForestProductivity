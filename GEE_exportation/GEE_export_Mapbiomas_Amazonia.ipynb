{
 "cells": [
  {
   "cell_type": "markdown",
   "metadata": {},
   "source": [
    "### **Setting GEE environnement**\n",
    "Due to compatibility issues it is recommended to use a dedicated environment for the geemap library.\n",
    "\n",
    "See instructions on how to do this here: https://geemap.org/installation/"
   ]
  },
  {
   "cell_type": "code",
   "execution_count": 1,
   "metadata": {},
   "outputs": [],
   "source": [
    "# Install the libraries if they are not installed (you can remove these lines if you have already installed them)\n",
    "# !pip install earthengine-api geemap\n",
    "\n",
    "# Charging the libraries\n",
    "import ee\n",
    "import geemap\n",
    "\n",
    "# Authenticate and initialize Earth Engine session\n",
    "# ee.Authenticate()  # Only required the first time or when the access token expires\n",
    "ee.Initialize()"
   ]
  },
  {
   "cell_type": "markdown",
   "metadata": {},
   "source": [
    "### **Looping for export NDVI for each ROI**"
   ]
  },
  {
   "cell_type": "code",
   "execution_count": 6,
   "metadata": {},
   "outputs": [
    {
     "data": {
      "text/html": [
       "\n",
       "            <style>\n",
       "                .geemap-dark {\n",
       "                    --jp-widgets-color: white;\n",
       "                    --jp-widgets-label-color: white;\n",
       "                    --jp-ui-font-color1: white;\n",
       "                    --jp-layout-color2: #454545;\n",
       "                    background-color: #383838;\n",
       "                }\n",
       "\n",
       "                .geemap-dark .jupyter-button {\n",
       "                    --jp-layout-color3: #383838;\n",
       "                }\n",
       "\n",
       "                .geemap-colab {\n",
       "                    background-color: var(--colab-primary-surface-color, white);\n",
       "                }\n",
       "\n",
       "                .geemap-colab .jupyter-button {\n",
       "                    --jp-layout-color3: var(--colab-primary-surface-color, white);\n",
       "                }\n",
       "            </style>\n",
       "            "
      ],
      "text/plain": [
       "<IPython.core.display.HTML object>"
      ]
     },
     "metadata": {},
     "output_type": "display_data"
    }
   ],
   "source": [
    "# Define ROIs in a dictionary with a 10km buffer\n",
    "rois = {\n",
    "    'Cotriguacu': ee.FeatureCollection('users/caslumali/UE801_Stage/Cotriguacu_10km'),\n",
    "    'Guaviare': ee.FeatureCollection('users/caslumali/UE801_Stage/Guaviare_10km'),\n",
    "    'MDD': ee.FeatureCollection('users/caslumali/UE801_Stage/MDD_10km'),\n",
    "    'Paragominas': ee.FeatureCollection('users/caslumali/UE801_Stage/Paragominas_10km'),\n",
    "}\n",
    "\n",
    "# Set the MapBiomas Amazônia collection\n",
    "mapbiomas_amazonia = 'projects/mapbiomas-raisg/public/collection5/mapbiomas_raisg_panamazonia_collection5_integration_v1'\n",
    "mapbiomas = ee.Image(mapbiomas_amazonia)"
   ]
  },
  {
   "cell_type": "code",
   "execution_count": null,
   "metadata": {},
   "outputs": [],
   "source": [
    "# Loop for each ROI\n",
    "for roi_name, roi in rois.items():\n",
    "    print(f'Processing {roi_name}...')\n",
    "    for year in range(1985, 2023):  # Adjust the range as needed\n",
    "        bandName = f'classification_{year}'\n",
    "\n",
    "        # Select and clip the specific band for the year\n",
    "        image = mapbiomas.select([bandName]).clip(roi.geometry())\n",
    "        \n",
    "        description = f'Mapbiomas_{roi_name}_{year}'\n",
    "        fileNamePrefix = f'{roi_name}_Mapbiomas_{year}'\n",
    "        \n",
    "        # Start the export task\n",
    "        task = ee.batch.Export.image.toDrive(\n",
    "            image=image,\n",
    "            description=description,\n",
    "            folder=f'Mapbiomas_Amazonia_{roi_name}',\n",
    "            fileNamePrefix=fileNamePrefix,\n",
    "            scale=30,\n",
    "            region=roi.geometry(),\n",
    "            crs='EPSG:4326',\n",
    "            maxPixels=1e13\n",
    "        )\n",
    "        task.start()\n",
    "        print(f'Export task started for {roi_name} in the year: {year}')"
   ]
  }
 ],
 "metadata": {
  "kernelspec": {
   "display_name": "geopy",
   "language": "python",
   "name": "python3"
  },
  "language_info": {
   "codemirror_mode": {
    "name": "ipython",
    "version": 3
   },
   "file_extension": ".py",
   "mimetype": "text/x-python",
   "name": "python",
   "nbconvert_exporter": "python",
   "pygments_lexer": "ipython3",
   "version": "3.11.8"
  }
 },
 "nbformat": 4,
 "nbformat_minor": 2
}
