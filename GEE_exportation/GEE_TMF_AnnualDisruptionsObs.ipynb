{
 "cells": [
  {
   "cell_type": "markdown",
   "metadata": {},
   "source": [
    "### **Setting GEE environnement**\n",
    "Due to compatibility issues it is recommended to use a dedicated environment for the geemap library.\n",
    "\n",
    "See instructions on how to do this here: https://geemap.org/installation/"
   ]
  },
  {
   "cell_type": "code",
   "execution_count": 1,
   "metadata": {},
   "outputs": [],
   "source": [
    "# Install the libraries if they are not installed (you can remove these lines if you have already installed them)\n",
    "# !pip install earthengine-api geemap\n",
    "\n",
    "# Charging the libraries\n",
    "import ee\n",
    "import geemap\n",
    "\n",
    "# Authenticate and initialize Earth Engine session\n",
    "# ee.Authenticate()  # Only required the first time or when the access token expires\n",
    "ee.Initialize()\n"
   ]
  },
  {
   "cell_type": "markdown",
   "metadata": {},
   "source": [
    "### **Looping for export NDVI for each ROI**"
   ]
  },
  {
   "cell_type": "code",
   "execution_count": 2,
   "metadata": {},
   "outputs": [
    {
     "data": {
      "text/html": [
       "\n",
       "            <style>\n",
       "                .geemap-dark {\n",
       "                    --jp-widgets-color: white;\n",
       "                    --jp-widgets-label-color: white;\n",
       "                    --jp-ui-font-color1: white;\n",
       "                    --jp-layout-color2: #454545;\n",
       "                    background-color: #383838;\n",
       "                }\n",
       "\n",
       "                .geemap-dark .jupyter-button {\n",
       "                    --jp-layout-color3: #383838;\n",
       "                }\n",
       "\n",
       "                .geemap-colab {\n",
       "                    background-color: var(--colab-primary-surface-color, white);\n",
       "                }\n",
       "\n",
       "                .geemap-colab .jupyter-button {\n",
       "                    --jp-layout-color3: var(--colab-primary-surface-color, white);\n",
       "                }\n",
       "            </style>\n",
       "            "
      ],
      "text/plain": [
       "<IPython.core.display.HTML object>"
      ]
     },
     "metadata": {},
     "output_type": "display_data"
    }
   ],
   "source": [
    "# Define the Regions of Interest (ROIs) and the ImageCollections for NDVI and EVI\n",
    "rois = {\n",
    "    'Cotriguacu': ee.FeatureCollection('users/caslumali/UE801_Stage/Cotriguacu_10km'),\n",
    "    'Guaviare': ee.FeatureCollection('users/caslumali/UE801_Stage/Guaviare_10km'),\n",
    "    'MDD': ee.FeatureCollection('users/caslumali/UE801_Stage/MDD_10km'),\n",
    "    'Paragominas': ee.FeatureCollection('users/caslumali/UE801_Stage/Paragominas_10km'),\n",
    "}\n"
   ]
  },
  {
   "cell_type": "markdown",
   "metadata": {},
   "source": [
    "### **Charging and converting the ImageCollection**\n"
   ]
  },
  {
   "cell_type": "code",
   "execution_count": 4,
   "metadata": {},
   "outputs": [
    {
     "data": {
      "text/html": [
       "\n",
       "            <style>\n",
       "                .geemap-dark {\n",
       "                    --jp-widgets-color: white;\n",
       "                    --jp-widgets-label-color: white;\n",
       "                    --jp-ui-font-color1: white;\n",
       "                    --jp-layout-color2: #454545;\n",
       "                    background-color: #383838;\n",
       "                }\n",
       "\n",
       "                .geemap-dark .jupyter-button {\n",
       "                    --jp-layout-color3: #383838;\n",
       "                }\n",
       "\n",
       "                .geemap-colab {\n",
       "                    background-color: var(--colab-primary-surface-color, white);\n",
       "                }\n",
       "\n",
       "                .geemap-colab .jupyter-button {\n",
       "                    --jp-layout-color3: var(--colab-primary-surface-color, white);\n",
       "                }\n",
       "            </style>\n",
       "            "
      ],
      "text/plain": [
       "<IPython.core.display.HTML object>"
      ]
     },
     "metadata": {},
     "output_type": "display_data"
    }
   ],
   "source": [
    "AnnualDisruptionObs1982_2020 = ee.ImageCollection('projects/JRC/TMF/v1_2020/AnnualDisruptionObs').mosaic()\n",
    "\n",
    "AnnualDisruptionObs1982_2020 = AnnualDisruptionObs1982_2020.toUint16()"
   ]
  },
  {
   "cell_type": "markdown",
   "metadata": {},
   "source": [
    "### **Exporting date to Google Drive**"
   ]
  },
  {
   "cell_type": "code",
   "execution_count": 5,
   "metadata": {},
   "outputs": [
    {
     "data": {
      "text/html": [
       "\n",
       "            <style>\n",
       "                .geemap-dark {\n",
       "                    --jp-widgets-color: white;\n",
       "                    --jp-widgets-label-color: white;\n",
       "                    --jp-ui-font-color1: white;\n",
       "                    --jp-layout-color2: #454545;\n",
       "                    background-color: #383838;\n",
       "                }\n",
       "\n",
       "                .geemap-dark .jupyter-button {\n",
       "                    --jp-layout-color3: #383838;\n",
       "                }\n",
       "\n",
       "                .geemap-colab {\n",
       "                    background-color: var(--colab-primary-surface-color, white);\n",
       "                }\n",
       "\n",
       "                .geemap-colab .jupyter-button {\n",
       "                    --jp-layout-color3: var(--colab-primary-surface-color, white);\n",
       "                }\n",
       "            </style>\n",
       "            "
      ],
      "text/plain": [
       "<IPython.core.display.HTML object>"
      ]
     },
     "metadata": {},
     "output_type": "display_data"
    },
    {
     "name": "stdout",
     "output_type": "stream",
     "text": [
      "Exporting AnnualDisruptionObs_Cotriguacu to GEE_Exports\n",
      "Exporting AnnualDisruptionObs_Guaviare to GEE_Exports\n",
      "Exporting AnnualDisruptionObs_MDD to GEE_Exports\n",
      "Exporting AnnualDisruptionObs_Paragominas to GEE_Exports\n"
     ]
    }
   ],
   "source": [
    "def export_image(image, region, description, folder, scale=30):\n",
    "    task = ee.batch.Export.image.toDrive(**{\n",
    "        'image': image,\n",
    "        'description': description,\n",
    "        'folder': folder,\n",
    "        'region': region.geometry().bounds().getInfo()['coordinates'],\n",
    "        'scale': scale,\n",
    "        'maxPixels': 1e13\n",
    "    })\n",
    "    task.start()\n",
    "    print(f'Exporting {description} to {folder}')\n",
    "\n",
    "for roi_name, roi in rois.items():\n",
    "    export_image(\n",
    "        image=AnnualDisruptionObs1982_2020,\n",
    "        region=roi,\n",
    "        description=f'AnnualDisruptionObs_{roi_name}',\n",
    "        folder='GEE_Exports'\n",
    "    )"
   ]
  }
 ],
 "metadata": {
  "kernelspec": {
   "display_name": "geopy",
   "language": "python",
   "name": "python3"
  },
  "language_info": {
   "codemirror_mode": {
    "name": "ipython",
    "version": 3
   },
   "file_extension": ".py",
   "mimetype": "text/x-python",
   "name": "python",
   "nbconvert_exporter": "python",
   "pygments_lexer": "ipython3",
   "version": "3.11.9"
  }
 },
 "nbformat": 4,
 "nbformat_minor": 2
}
