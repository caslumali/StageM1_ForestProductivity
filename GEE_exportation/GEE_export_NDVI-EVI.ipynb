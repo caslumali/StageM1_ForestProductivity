{
 "cells": [
  {
   "cell_type": "markdown",
   "metadata": {},
   "source": [
    "### **Setting GEE environnement**\n",
    "Due to compatibility issues it is recommended to use a dedicated environment for the geemap library.\n",
    "\n",
    "See instructions on how to do this here: https://geemap.org/installation/"
   ]
  },
  {
   "cell_type": "code",
   "execution_count": 73,
   "metadata": {},
   "outputs": [
    {
     "data": {
      "text/html": [
       "\n",
       "            <style>\n",
       "                .geemap-dark {\n",
       "                    --jp-widgets-color: white;\n",
       "                    --jp-widgets-label-color: white;\n",
       "                    --jp-ui-font-color1: white;\n",
       "                    --jp-layout-color2: #454545;\n",
       "                    background-color: #383838;\n",
       "                }\n",
       "\n",
       "                .geemap-dark .jupyter-button {\n",
       "                    --jp-layout-color3: #383838;\n",
       "                }\n",
       "\n",
       "                .geemap-colab {\n",
       "                    background-color: var(--colab-primary-surface-color, white);\n",
       "                }\n",
       "\n",
       "                .geemap-colab .jupyter-button {\n",
       "                    --jp-layout-color3: var(--colab-primary-surface-color, white);\n",
       "                }\n",
       "            </style>\n",
       "            "
      ],
      "text/plain": [
       "<IPython.core.display.HTML object>"
      ]
     },
     "metadata": {},
     "output_type": "display_data"
    }
   ],
   "source": [
    "# Install the libraries if they are not installed (you can remove these lines if you have already installed them)\n",
    "# !pip install earthengine-api geemap\n",
    "\n",
    "# Charging the libraries\n",
    "import ee\n",
    "import geemap\n",
    "from datetime import datetime, timedelta\n",
    "\n",
    "# Authenticate and initialize Earth Engine session\n",
    "# ee.Authenticate()  # Only required the first time or when the access token expires\n",
    "ee.Initialize()"
   ]
  },
  {
   "cell_type": "markdown",
   "metadata": {},
   "source": [
    "### **Looping for export NDVI for each ROI**"
   ]
  },
  {
   "cell_type": "code",
   "execution_count": 74,
   "metadata": {},
   "outputs": [
    {
     "data": {
      "text/html": [
       "\n",
       "            <style>\n",
       "                .geemap-dark {\n",
       "                    --jp-widgets-color: white;\n",
       "                    --jp-widgets-label-color: white;\n",
       "                    --jp-ui-font-color1: white;\n",
       "                    --jp-layout-color2: #454545;\n",
       "                    background-color: #383838;\n",
       "                }\n",
       "\n",
       "                .geemap-dark .jupyter-button {\n",
       "                    --jp-layout-color3: #383838;\n",
       "                }\n",
       "\n",
       "                .geemap-colab {\n",
       "                    background-color: var(--colab-primary-surface-color, white);\n",
       "                }\n",
       "\n",
       "                .geemap-colab .jupyter-button {\n",
       "                    --jp-layout-color3: var(--colab-primary-surface-color, white);\n",
       "                }\n",
       "            </style>\n",
       "            "
      ],
      "text/plain": [
       "<IPython.core.display.HTML object>"
      ]
     },
     "metadata": {},
     "output_type": "display_data"
    }
   ],
   "source": [
    "# Define the Regions of Interest (ROIs) and the ImageCollections for NDVI and EVI\n",
    "rois = {\n",
    "    #'Cotriguacu': ee.FeatureCollection('users/caslumali/UE801_Stage/Cotriguacu_10km'),\n",
    "    'Guaviare': ee.FeatureCollection('users/caslumali/UE801_Stage/Guaviare_10km'),\n",
    "    'MDD': ee.FeatureCollection('users/caslumali/UE801_Stage/MDD_10km'),\n",
    "    #'Paragominas': ee.FeatureCollection('users/caslumali/UE801_Stage/Paragominas_10km'),\n",
    "}\n",
    "\n",
    "modisNDVI = ee.ImageCollection('MODIS/061/MOD13Q1').select('NDVI')\n",
    "modisEVI = ee.ImageCollection('MODIS/061/MOD13Q1').select('EVI')"
   ]
  },
  {
   "cell_type": "code",
   "execution_count": 75,
   "metadata": {},
   "outputs": [
    {
     "data": {
      "text/html": [
       "\n",
       "            <style>\n",
       "                .geemap-dark {\n",
       "                    --jp-widgets-color: white;\n",
       "                    --jp-widgets-label-color: white;\n",
       "                    --jp-ui-font-color1: white;\n",
       "                    --jp-layout-color2: #454545;\n",
       "                    background-color: #383838;\n",
       "                }\n",
       "\n",
       "                .geemap-dark .jupyter-button {\n",
       "                    --jp-layout-color3: #383838;\n",
       "                }\n",
       "\n",
       "                .geemap-colab {\n",
       "                    background-color: var(--colab-primary-surface-color, white);\n",
       "                }\n",
       "\n",
       "                .geemap-colab .jupyter-button {\n",
       "                    --jp-layout-color3: var(--colab-primary-surface-color, white);\n",
       "                }\n",
       "            </style>\n",
       "            "
      ],
      "text/plain": [
       "<IPython.core.display.HTML object>"
      ]
     },
     "metadata": {},
     "output_type": "display_data"
    }
   ],
   "source": [
    "def export_images(image_collection, roi, roi_name, start_year, end_year, band_name):\n",
    "    # Get the current datetime to use as a unique identifier\n",
    "    timestamp = datetime.now().strftime('%Y%m%d_%H%M%S')\n",
    "    folder_name = f'{roi_name}_{band_name}_bimonthly_{timestamp}'\n",
    "\n",
    "    for year in range(start_year, end_year + 1):\n",
    "        start_date = ee.Date.fromYMD(year, 7, 31)\n",
    "        end_date = ee.Date.fromYMD(year + 1, 8, 1)\n",
    "        date_range = ee.DateRange(start_date, end_date)\n",
    "        images = image_collection.filterDate(date_range).filterBounds(roi.geometry())\n",
    "\n",
    "        def export_task(image):\n",
    "            date = image.date().format('YYYY-MM-dd').getInfo()\n",
    "            export = ee.batch.Export.image.toDrive(\n",
    "                image=image.select([band_name]),\n",
    "                description=f'{roi_name}_{band_name}_{date}',\n",
    "                folder=folder_name,\n",
    "                fileNamePrefix=f'{roi_name}_{band_name}_{date}',\n",
    "                region=roi.geometry(),\n",
    "                scale=250,\n",
    "                crs='EPSG:4326'\n",
    "            )\n",
    "            export.start()\n",
    "            print(f'Export task started for {roi_name}, {band_name}, on {date}')\n",
    "\n",
    "        images_list = images.toList(images.size())\n",
    "        for i in range(images.size().getInfo()):\n",
    "            image = ee.Image(images_list.get(i))\n",
    "            export_task(image)"
   ]
  },
  {
   "cell_type": "code",
   "execution_count": null,
   "metadata": {},
   "outputs": [],
   "source": [
    "# Loop over ROIs\n",
    "start_year = 2000\n",
    "end_year = 2022\n",
    "\n",
    "for roi_name, roi in rois.items():\n",
    "    print(f'Processing {roi_name}...')\n",
    "    \n",
    "    # Export NDVI images\n",
    "    export_images(modisNDVI, roi, roi_name, start_year, end_year, 'NDVI')\n",
    "\n",
    "    # Export EVI images\n",
    "    export_images(modisEVI, roi, roi_name, start_year, end_year, 'EVI')\n"
   ]
  }
 ],
 "metadata": {
  "kernelspec": {
   "display_name": "geopy",
   "language": "python",
   "name": "python3"
  },
  "language_info": {
   "codemirror_mode": {
    "name": "ipython",
    "version": 3
   },
   "file_extension": ".py",
   "mimetype": "text/x-python",
   "name": "python",
   "nbconvert_exporter": "python",
   "pygments_lexer": "ipython3",
   "version": "3.11.8"
  }
 },
 "nbformat": 4,
 "nbformat_minor": 2
}
