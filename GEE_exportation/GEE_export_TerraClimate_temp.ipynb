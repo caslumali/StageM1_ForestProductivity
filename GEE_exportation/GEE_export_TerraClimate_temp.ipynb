{
 "cells": [
  {
   "cell_type": "markdown",
   "metadata": {},
   "source": [
    "### **Setting GEE environnement**\n",
    "Due to compatibility issues it is recommended to use a dedicated environment for the geemap library.\n",
    "\n",
    "See instructions on how to do this here: https://geemap.org/installation/"
   ]
  },
  {
   "cell_type": "code",
   "execution_count": 2,
   "metadata": {},
   "outputs": [
    {
     "data": {
      "text/html": [
       "\n",
       "            <style>\n",
       "                .geemap-dark {\n",
       "                    --jp-widgets-color: white;\n",
       "                    --jp-widgets-label-color: white;\n",
       "                    --jp-ui-font-color1: white;\n",
       "                    --jp-layout-color2: #454545;\n",
       "                    background-color: #383838;\n",
       "                }\n",
       "\n",
       "                .geemap-dark .jupyter-button {\n",
       "                    --jp-layout-color3: #383838;\n",
       "                }\n",
       "\n",
       "                .geemap-colab {\n",
       "                    background-color: var(--colab-primary-surface-color, white);\n",
       "                }\n",
       "\n",
       "                .geemap-colab .jupyter-button {\n",
       "                    --jp-layout-color3: var(--colab-primary-surface-color, white);\n",
       "                }\n",
       "            </style>\n",
       "            "
      ],
      "text/plain": [
       "<IPython.core.display.HTML object>"
      ]
     },
     "metadata": {},
     "output_type": "display_data"
    }
   ],
   "source": [
    "# Install the libraries if they are not installed (you can remove these lines if you have already installed them)\n",
    "# !pip install earthengine-api geemap\n",
    "\n",
    "# Charging the libraries\n",
    "import ee\n",
    "import geemap\n",
    "\n",
    "# Authenticate and initialize Earth Engine session\n",
    "# ee.Authenticate()  # Only required the first time or when the access token expires\n",
    "ee.Initialize()"
   ]
  },
  {
   "cell_type": "markdown",
   "metadata": {},
   "source": [
    "### **Visualisation mode for one roi in one year_of_interest**"
   ]
  },
  {
   "cell_type": "code",
   "execution_count": 22,
   "metadata": {},
   "outputs": [
    {
     "data": {
      "text/html": [
       "\n",
       "            <style>\n",
       "                .geemap-dark {\n",
       "                    --jp-widgets-color: white;\n",
       "                    --jp-widgets-label-color: white;\n",
       "                    --jp-ui-font-color1: white;\n",
       "                    --jp-layout-color2: #454545;\n",
       "                    background-color: #383838;\n",
       "                }\n",
       "\n",
       "                .geemap-dark .jupyter-button {\n",
       "                    --jp-layout-color3: #383838;\n",
       "                }\n",
       "\n",
       "                .geemap-colab {\n",
       "                    background-color: var(--colab-primary-surface-color, white);\n",
       "                }\n",
       "\n",
       "                .geemap-colab .jupyter-button {\n",
       "                    --jp-layout-color3: var(--colab-primary-surface-color, white);\n",
       "                }\n",
       "            </style>\n",
       "            "
      ],
      "text/plain": [
       "<IPython.core.display.HTML object>"
      ]
     },
     "metadata": {},
     "output_type": "display_data"
    }
   ],
   "source": [
    "# Define the ROI and load the dataset\n",
    "roi = ee.FeatureCollection('users/caslumali/UE801_Stage/Cotriguacu') # change the name of the ROIi : 'Cotriguacu' / 'Guaviare' / 'MDD' / 'Paragominas'\n",
    "terraClimate = ee.ImageCollection(\"IDAHO_EPSCOR/TERRACLIMATE\")"
   ]
  },
  {
   "cell_type": "code",
   "execution_count": 29,
   "metadata": {},
   "outputs": [
    {
     "data": {
      "text/html": [
       "\n",
       "            <style>\n",
       "                .geemap-dark {\n",
       "                    --jp-widgets-color: white;\n",
       "                    --jp-widgets-label-color: white;\n",
       "                    --jp-ui-font-color1: white;\n",
       "                    --jp-layout-color2: #454545;\n",
       "                    background-color: #383838;\n",
       "                }\n",
       "\n",
       "                .geemap-dark .jupyter-button {\n",
       "                    --jp-layout-color3: #383838;\n",
       "                }\n",
       "\n",
       "                .geemap-colab {\n",
       "                    background-color: var(--colab-primary-surface-color, white);\n",
       "                }\n",
       "\n",
       "                .geemap-colab .jupyter-button {\n",
       "                    --jp-layout-color3: var(--colab-primary-surface-color, white);\n",
       "                }\n",
       "            </style>\n",
       "            "
      ],
      "text/plain": [
       "<IPython.core.display.HTML object>"
      ]
     },
     "metadata": {},
     "output_type": "display_data"
    },
    {
     "name": "stdout",
     "output_type": "stream",
     "text": [
      "Temperature values for 2022 - 2023\n",
      " {'Temperature_avg_max': 27.2, 'Temperature_avg_mean': 26.56315086851269, 'Temperature_avg_min': 25.954166666666662}\n"
     ]
    }
   ],
   "source": [
    "def calculate_annual_temp_avg(year, roi):\n",
    "    \"\"\"Calculate the annual temperatura average for a specific climate year.\"\"\"\n",
    "    startDate = ee.Date.fromYMD(year, 8, 1)\n",
    "    endDate = ee.Date.fromYMD(year + 1, 7, 31)\n",
    "    filteredYear = terraClimate.filterDate(startDate, endDate).map(\n",
    "        lambda image: image.select(['tmmx', 'tmmn']).multiply(0.1).reduce(ee.Reducer.mean()).clip(roi)\n",
    "    )\n",
    "    annual_temp_avg = filteredYear.reduce(ee.Reducer.mean()).rename('Temperature_avg')\n",
    "    return annual_temp_avg\n",
    "\n",
    "def calculate_stats(image, roi):\n",
    "    \"\"\"Calculate max, min, and average temperature within the ROI.\"\"\"\n",
    "    stats = image.reduceRegion(\n",
    "        reducer=ee.Reducer.minMax().combine(reducer2=ee.Reducer.mean(), sharedInputs=True),\n",
    "        geometry=roi.geometry(),\n",
    "        scale=4638,\n",
    "        maxPixels=1e9\n",
    "    )\n",
    "    return stats.getInfo()\n",
    "\n",
    "# Year of interest for the temperature analysis\n",
    "year_of_interest = 2022 # change the date for stats and visualisation\n",
    "\n",
    "# Calculate the annual cumulative precipitation\n",
    "annual_temp_avg = calculate_annual_temp_avg(year_of_interest, roi)\n",
    "\n",
    "# Calculate and print temperature statistics\n",
    "stats = calculate_stats(annual_temp_avg, roi)\n",
    "print(f\"Temperature values for {year_of_interest} - {year_of_interest + 1}\\n\", stats)\n"
   ]
  },
  {
   "cell_type": "code",
   "execution_count": 30,
   "metadata": {},
   "outputs": [
    {
     "data": {
      "text/html": [
       "\n",
       "            <style>\n",
       "                .geemap-dark {\n",
       "                    --jp-widgets-color: white;\n",
       "                    --jp-widgets-label-color: white;\n",
       "                    --jp-ui-font-color1: white;\n",
       "                    --jp-layout-color2: #454545;\n",
       "                    background-color: #383838;\n",
       "                }\n",
       "\n",
       "                .geemap-dark .jupyter-button {\n",
       "                    --jp-layout-color3: #383838;\n",
       "                }\n",
       "\n",
       "                .geemap-colab {\n",
       "                    background-color: var(--colab-primary-surface-color, white);\n",
       "                }\n",
       "\n",
       "                .geemap-colab .jupyter-button {\n",
       "                    --jp-layout-color3: var(--colab-primary-surface-color, white);\n",
       "                }\n",
       "            </style>\n",
       "            "
      ],
      "text/plain": [
       "<IPython.core.display.HTML object>"
      ]
     },
     "metadata": {},
     "output_type": "display_data"
    },
    {
     "data": {
      "application/vnd.jupyter.widget-view+json": {
       "model_id": "d2a9bf73b8784cbf90c069c702726f2d",
       "version_major": 2,
       "version_minor": 0
      },
      "text/plain": [
       "Map(center=[-3.184380688531968, -47.60048105896091], controls=(WidgetControl(options=['position', 'transparent…"
      ]
     },
     "execution_count": 30,
     "metadata": {},
     "output_type": "execute_result"
    }
   ],
   "source": [
    "# Calculate CHIRPS statistics for the year of interest to generate dynamic visualization\n",
    "stats = calculate_stats(annual_temp_avg, roi)\n",
    "\n",
    "# Define visualization parameters based on the calculated statistics\n",
    "precipitation_vis = {\n",
    "    'min': stats['Temperature_avg_min'],\n",
    "    'max': stats['Temperature_avg_max'],\n",
    "    'palette': ['1a3678', '2955bc', '5699ff', '8dbae9', 'acd1ff', 'caebff', 'e5f9ff',\n",
    "    'fdffb4', 'ffe6a2', 'ffc969', 'ffa12d', 'ff7c1f', 'ca531a', 'ff0000',\n",
    "    'ab0000'\n",
    "  ],\n",
    "}\n",
    "\n",
    "# View the Temperature average on the map\n",
    "Map = geemap.Map()\n",
    "Map.addLayer(annual_temp_avg, precipitation_vis, 'Annual Temperature Average')\n",
    "Map.centerObject(roi, 7) # Change the zoom depending on the area\n",
    "Map"
   ]
  },
  {
   "cell_type": "markdown",
   "metadata": {},
   "source": [
    "### **Looping for export average temperature for each ROI**"
   ]
  },
  {
   "cell_type": "code",
   "execution_count": 31,
   "metadata": {},
   "outputs": [
    {
     "data": {
      "text/html": [
       "\n",
       "            <style>\n",
       "                .geemap-dark {\n",
       "                    --jp-widgets-color: white;\n",
       "                    --jp-widgets-label-color: white;\n",
       "                    --jp-ui-font-color1: white;\n",
       "                    --jp-layout-color2: #454545;\n",
       "                    background-color: #383838;\n",
       "                }\n",
       "\n",
       "                .geemap-dark .jupyter-button {\n",
       "                    --jp-layout-color3: #383838;\n",
       "                }\n",
       "\n",
       "                .geemap-colab {\n",
       "                    background-color: var(--colab-primary-surface-color, white);\n",
       "                }\n",
       "\n",
       "                .geemap-colab .jupyter-button {\n",
       "                    --jp-layout-color3: var(--colab-primary-surface-color, white);\n",
       "                }\n",
       "            </style>\n",
       "            "
      ],
      "text/plain": [
       "<IPython.core.display.HTML object>"
      ]
     },
     "metadata": {},
     "output_type": "display_data"
    }
   ],
   "source": [
    "# Define ROIs in a list\n",
    "# Export ROIs have a 10km buffer\n",
    "rois = {\n",
    "    'Cotriguacu': ee.FeatureCollection('users/caslumali/UE801_Stage/Cotriguacu_10km'),\n",
    "    'Guaviare': ee.FeatureCollection('users/caslumali/UE801_Stage/Guaviare_10km'),\n",
    "    'MDD': ee.FeatureCollection('users/caslumali/UE801_Stage/MDD_10km'),\n",
    "    'Paragominas': ee.FeatureCollection('users/caslumali/UE801_Stage/Paragominas_10km'),\n",
    "}"
   ]
  },
  {
   "cell_type": "code",
   "execution_count": 32,
   "metadata": {},
   "outputs": [
    {
     "data": {
      "text/html": [
       "\n",
       "            <style>\n",
       "                .geemap-dark {\n",
       "                    --jp-widgets-color: white;\n",
       "                    --jp-widgets-label-color: white;\n",
       "                    --jp-ui-font-color1: white;\n",
       "                    --jp-layout-color2: #454545;\n",
       "                    background-color: #383838;\n",
       "                }\n",
       "\n",
       "                .geemap-dark .jupyter-button {\n",
       "                    --jp-layout-color3: #383838;\n",
       "                }\n",
       "\n",
       "                .geemap-colab {\n",
       "                    background-color: var(--colab-primary-surface-color, white);\n",
       "                }\n",
       "\n",
       "                .geemap-colab .jupyter-button {\n",
       "                    --jp-layout-color3: var(--colab-primary-surface-color, white);\n",
       "                }\n",
       "            </style>\n",
       "            "
      ],
      "text/plain": [
       "<IPython.core.display.HTML object>"
      ]
     },
     "metadata": {},
     "output_type": "display_data"
    },
    {
     "name": "stdout",
     "output_type": "stream",
     "text": [
      "Processing Cotriguacu...\n",
      "Export task started for Cotriguacu in the year: 2000\n",
      "Export task started for Cotriguacu in the year: 2001\n",
      "Export task started for Cotriguacu in the year: 2002\n",
      "Export task started for Cotriguacu in the year: 2003\n",
      "Export task started for Cotriguacu in the year: 2004\n",
      "Export task started for Cotriguacu in the year: 2005\n",
      "Export task started for Cotriguacu in the year: 2006\n",
      "Export task started for Cotriguacu in the year: 2007\n",
      "Export task started for Cotriguacu in the year: 2008\n",
      "Export task started for Cotriguacu in the year: 2009\n",
      "Export task started for Cotriguacu in the year: 2010\n",
      "Export task started for Cotriguacu in the year: 2011\n",
      "Export task started for Cotriguacu in the year: 2012\n",
      "Export task started for Cotriguacu in the year: 2013\n",
      "Export task started for Cotriguacu in the year: 2014\n",
      "Export task started for Cotriguacu in the year: 2015\n",
      "Export task started for Cotriguacu in the year: 2016\n",
      "Export task started for Cotriguacu in the year: 2017\n",
      "Export task started for Cotriguacu in the year: 2018\n",
      "Export task started for Cotriguacu in the year: 2019\n",
      "Export task started for Cotriguacu in the year: 2020\n",
      "Export task started for Cotriguacu in the year: 2021\n",
      "Export task started for Cotriguacu in the year: 2022\n",
      "Processing Guaviare...\n",
      "Export task started for Guaviare in the year: 2000\n",
      "Export task started for Guaviare in the year: 2001\n",
      "Export task started for Guaviare in the year: 2002\n",
      "Export task started for Guaviare in the year: 2003\n",
      "Export task started for Guaviare in the year: 2004\n",
      "Export task started for Guaviare in the year: 2005\n",
      "Export task started for Guaviare in the year: 2006\n",
      "Export task started for Guaviare in the year: 2007\n",
      "Export task started for Guaviare in the year: 2008\n",
      "Export task started for Guaviare in the year: 2009\n",
      "Export task started for Guaviare in the year: 2010\n",
      "Export task started for Guaviare in the year: 2011\n",
      "Export task started for Guaviare in the year: 2012\n",
      "Export task started for Guaviare in the year: 2013\n",
      "Export task started for Guaviare in the year: 2014\n",
      "Export task started for Guaviare in the year: 2015\n",
      "Export task started for Guaviare in the year: 2016\n",
      "Export task started for Guaviare in the year: 2017\n",
      "Export task started for Guaviare in the year: 2018\n",
      "Export task started for Guaviare in the year: 2019\n",
      "Export task started for Guaviare in the year: 2020\n",
      "Export task started for Guaviare in the year: 2021\n",
      "Export task started for Guaviare in the year: 2022\n",
      "Processing MDD...\n",
      "Export task started for MDD in the year: 2000\n",
      "Export task started for MDD in the year: 2001\n",
      "Export task started for MDD in the year: 2002\n",
      "Export task started for MDD in the year: 2003\n",
      "Export task started for MDD in the year: 2004\n",
      "Export task started for MDD in the year: 2005\n",
      "Export task started for MDD in the year: 2006\n",
      "Export task started for MDD in the year: 2007\n",
      "Export task started for MDD in the year: 2008\n",
      "Export task started for MDD in the year: 2009\n",
      "Export task started for MDD in the year: 2010\n",
      "Export task started for MDD in the year: 2011\n",
      "Export task started for MDD in the year: 2012\n",
      "Export task started for MDD in the year: 2013\n",
      "Export task started for MDD in the year: 2014\n",
      "Export task started for MDD in the year: 2015\n",
      "Export task started for MDD in the year: 2016\n",
      "Export task started for MDD in the year: 2017\n",
      "Export task started for MDD in the year: 2018\n",
      "Export task started for MDD in the year: 2019\n",
      "Export task started for MDD in the year: 2020\n",
      "Export task started for MDD in the year: 2021\n",
      "Export task started for MDD in the year: 2022\n",
      "Processing Paragominas...\n",
      "Export task started for Paragominas in the year: 2000\n",
      "Export task started for Paragominas in the year: 2001\n",
      "Export task started for Paragominas in the year: 2002\n",
      "Export task started for Paragominas in the year: 2003\n",
      "Export task started for Paragominas in the year: 2004\n",
      "Export task started for Paragominas in the year: 2005\n",
      "Export task started for Paragominas in the year: 2006\n",
      "Export task started for Paragominas in the year: 2007\n",
      "Export task started for Paragominas in the year: 2008\n",
      "Export task started for Paragominas in the year: 2009\n",
      "Export task started for Paragominas in the year: 2010\n",
      "Export task started for Paragominas in the year: 2011\n",
      "Export task started for Paragominas in the year: 2012\n",
      "Export task started for Paragominas in the year: 2013\n",
      "Export task started for Paragominas in the year: 2014\n",
      "Export task started for Paragominas in the year: 2015\n",
      "Export task started for Paragominas in the year: 2016\n",
      "Export task started for Paragominas in the year: 2017\n",
      "Export task started for Paragominas in the year: 2018\n",
      "Export task started for Paragominas in the year: 2019\n",
      "Export task started for Paragominas in the year: 2020\n",
      "Export task started for Paragominas in the year: 2021\n",
      "Export task started for Paragominas in the year: 2022\n"
     ]
    }
   ],
   "source": [
    "from datetime import datetime\n",
    "\n",
    "# Get current year\n",
    "current_year = datetime.now().year\n",
    "\n",
    "# Loop for each ROI\n",
    "for roi_name, roi in rois.items():\n",
    "    print(f'Processing {roi_name}...')\n",
    "    for year in range(2000, current_year):  # Goes to the current year\n",
    "        # If we are in the current year and processing the last year, skip the combination\n",
    "        if year == current_year - 1:\n",
    "            continue  # Skip to the next iteration of the loop\n",
    "\n",
    "        # Calculate annual temperature average\n",
    "        annual_temp_avg = calculate_annual_temp_avg(year, roi).toDouble()\n",
    "        \n",
    "        # Set up export parameters.\n",
    "        description = f'{roi_name}_Annual_TempAvg_{year}_{year + 1}'\n",
    "        file_name_prefix = f'{roi_name}_Annual_TempAvg_{year}_{year + 1}'\n",
    "\n",
    "        # Start export task\n",
    "        task = ee.batch.Export.image.toDrive(\n",
    "            image=annual_temp_avg,\n",
    "            description=description,\n",
    "            fileNamePrefix=file_name_prefix,\n",
    "            folder=f'TempAvg_{roi_name}',\n",
    "            scale=4638,\n",
    "            region=roi.geometry(),\n",
    "            crs='EPSG:4326',\n",
    "            fileFormat='GeoTIFF',\n",
    "            maxPixels=1e9\n",
    "        )\n",
    "        task.start()\n",
    "        print(f'Export task started for {roi_name} in the year: {year}')"
   ]
  }
 ],
 "metadata": {
  "kernelspec": {
   "display_name": "geopy",
   "language": "python",
   "name": "python3"
  },
  "language_info": {
   "codemirror_mode": {
    "name": "ipython",
    "version": 3
   },
   "file_extension": ".py",
   "mimetype": "text/x-python",
   "name": "python",
   "nbconvert_exporter": "python",
   "pygments_lexer": "ipython3",
   "version": "3.11.8"
  }
 },
 "nbformat": 4,
 "nbformat_minor": 2
}
