{
 "cells": [
  {
   "cell_type": "markdown",
   "metadata": {},
   "source": [
    "### **Setting GEE environnement**\n",
    "Due to compatibility issues it is recommended to use a dedicated environment for the geemap library.\n",
    "\n",
    "See instructions on how to do this here: https://geemap.org/installation/"
   ]
  },
  {
   "cell_type": "code",
   "execution_count": null,
   "metadata": {},
   "outputs": [],
   "source": [
    "# Install the libraries if they are not installed (you can remove these lines if you have already installed them)\n",
    "# !pip install earthengine-api geemap\n",
    "\n",
    "# Charging the libraries\n",
    "import ee\n",
    "import geemap\n",
    "\n",
    "# Authenticate and initialize Earth Engine session\n",
    "# ee.Authenticate()  # Only required the first time or when the access token expires\n",
    "ee.Initialize()"
   ]
  },
  {
   "cell_type": "markdown",
   "metadata": {},
   "source": [
    "### **Visualisation mode for one roi in one year_of_interest**"
   ]
  },
  {
   "cell_type": "code",
   "execution_count": null,
   "metadata": {},
   "outputs": [],
   "source": [
    "# Define the ROI and load the dataset\n",
    "roi = ee.FeatureCollection('users/caslumali/UE801_Stage/MDD') # change the name of the ROIi : 'Cotriguacu' / 'Guaviare' / 'MDD' / 'Paragominas'\n",
    "chirpsPrecipitation  = ee.ImageCollection('UCSB-CHG/CHIRPS/DAILY')"
   ]
  },
  {
   "cell_type": "code",
   "execution_count": null,
   "metadata": {},
   "outputs": [],
   "source": [
    "def calculate_annual_precipitation_sum(year, roi):\n",
    "    \"\"\"Calculate the annual cumulative precipitation for a specific climate year.\"\"\"\n",
    "    start_date = ee.Date.fromYMD(year, 8, 1)  # Start of the climate year\n",
    "    end_date = ee.Date.fromYMD(year + 1, 7, 31)  # End of the climate year\n",
    "    filtered_year = chirpsPrecipitation.filterDate(start_date, end_date).map(lambda image: image.clip(roi))\n",
    "    annual_precipitation_sum = filtered_year.reduce(ee.Reducer.sum()).rename('Precipitation')\n",
    "    return annual_precipitation_sum\n",
    "\n",
    "def calculate_stats(annual_precipitation_sum, roi):\n",
    "    \"\"\"Calculate max, min, and average precipitation within the ROI.\"\"\"\n",
    "    stats = annual_precipitation_sum.reduceRegion(\n",
    "        reducer=ee.Reducer.minMax().combine(reducer2=ee.Reducer.mean(), sharedInputs=True),\n",
    "        geometry=roi.geometry(),\n",
    "        scale=5566,  # Match the resolution of CHIRPS data\n",
    "        maxPixels=1e9\n",
    "    )\n",
    "    return stats.getInfo()\n",
    "\n",
    "# Year of interest for the precipitation analysis\n",
    "year_of_interest = 2000 # change the date for stats and visualisation\n",
    "\n",
    "# Calculate the annual cumulative precipitation\n",
    "annual_precipitation_sum = calculate_annual_precipitation_sum(year_of_interest, roi)\n",
    "\n",
    "# Calculate and print precipitation statistics\n",
    "stats = calculate_stats(annual_precipitation_sum, roi)\n",
    "print(f\"Precipitation values for {year_of_interest} - {year_of_interest + 1}\\n\", stats)"
   ]
  },
  {
   "cell_type": "code",
   "execution_count": null,
   "metadata": {},
   "outputs": [],
   "source": [
    "# Calculate CHIRPS statistics for the year of interest to generate dynamic visualization\n",
    "stats = calculate_stats(annual_precipitation_sum, roi)\n",
    "\n",
    "# Define visualization parameters based on the calculated statistics\n",
    "precipitation_vis = {\n",
    "    'min': stats['Precipitation_min'],\n",
    "    'max': stats['Precipitation_max'],\n",
    "    'palette': ['blue', 'limegreen', 'yellow', 'orange', 'red']\n",
    "}\n",
    "\n",
    "# View the NDVI image on the map\n",
    "Map = geemap.Map()\n",
    "Map.addLayer(annual_precipitation_sum, precipitation_vis, 'Annual Precipitation Sum')\n",
    "Map.centerObject(roi, 7) # Change the zoom depending on the area\n",
    "Map"
   ]
  },
  {
   "cell_type": "markdown",
   "metadata": {},
   "source": [
    "### **Looping for export NDVI for each ROI**"
   ]
  },
  {
   "cell_type": "code",
   "execution_count": null,
   "metadata": {},
   "outputs": [],
   "source": [
    "# Define ROIs in a list\n",
    "# Export ROIs have a 10km buffer\n",
    "rois = {\n",
    "    'Cotriguacu': ee.FeatureCollection('users/caslumali/UE801_Stage/Cotriguacu_10km'),\n",
    "    'Guaviare': ee.FeatureCollection('users/caslumali/UE801_Stage/Guaviare_10km'),\n",
    "    'MDD': ee.FeatureCollection('users/caslumali/UE801_Stage/MDD_10km'),\n",
    "    'Paragominas': ee.FeatureCollection('users/caslumali/UE801_Stage/Paragominas_10km'),\n",
    "}"
   ]
  },
  {
   "cell_type": "code",
   "execution_count": null,
   "metadata": {},
   "outputs": [],
   "source": [
    "from datetime import datetime\n",
    "\n",
    "# Get current year\n",
    "current_year = datetime.now().year\n",
    "\n",
    "# Loop for each ROI\n",
    "for roi_name, roi in rois.items():\n",
    "    print(f'Processing {roi_name}...')\n",
    "    for year in range(2000, current_year):  # Goes to the current year\n",
    "        # If we are in the current year and processing the last year, skip the combination\n",
    "        if year == current_year - 1:\n",
    "            continue  # Skip to the next iteration of the loop\n",
    "        \n",
    "        # Calculate annual precipitation sum.\n",
    "        annual_precipitation_sum = calculate_annual_precipitation_sum(year, roi).toDouble()\n",
    "        \n",
    "        # Set up export parameters.\n",
    "        description = f'{roi_name}_CHIRPS_Precipitation_Annual_Sum_{year}_{year + 1}'\n",
    "        file_name_prefix = f'{roi_name}_CHIRPS_Precipitation_Annual_Sum_{year}_{year + 1}'\n",
    "        \n",
    "        # Start export task.\n",
    "        task = ee.batch.Export.image.toDrive(\n",
    "            image=annual_precipitation_sum,\n",
    "            description=description,\n",
    "            fileNamePrefix=file_name_prefix,\n",
    "            folder=f'CHIRPS_Precipitation_{roi_name}',\n",
    "            scale=5566,\n",
    "            region=roi.geometry(),\n",
    "            crs='EPSG:4326',\n",
    "            fileFormat='GeoTIFF',\n",
    "            maxPixels=1e9\n",
    "        )\n",
    "        task.start()\n",
    "        print(f'Export task started for {roi_name} in the year: {year}')"
   ]
  }
 ],
 "metadata": {
  "kernelspec": {
   "display_name": "geopy",
   "language": "python",
   "name": "python3"
  },
  "language_info": {
   "codemirror_mode": {
    "name": "ipython",
    "version": 3
   },
   "file_extension": ".py",
   "mimetype": "text/x-python",
   "name": "python",
   "nbconvert_exporter": "python",
   "pygments_lexer": "ipython3",
   "version": "3.11.8"
  }
 },
 "nbformat": 4,
 "nbformat_minor": 2
}
